{
 "cells": [
  {
   "cell_type": "markdown",
   "metadata": {},
   "source": [
    "# Setup/Imports"
   ]
  },
  {
   "cell_type": "code",
   "execution_count": 1,
   "metadata": {},
   "outputs": [],
   "source": [
    "import sys\n",
    "import os\n",
    "from pylab import *\n",
    "%matplotlib inline"
   ]
  },
  {
   "cell_type": "markdown",
   "metadata": {},
   "source": [
    "* Import Caffe using 'caffe_root'"
   ]
  },
  {
   "cell_type": "code",
   "execution_count": 2,
   "metadata": {},
   "outputs": [],
   "source": [
    "caffe_root = '/Users/Kallie/caffe'\n",
    "\n",
    "sys.path.insert(0, '/Users/Kallie/anaconda3/envs/final/lib')\n",
    "\n",
    "#Add path for python layers\n",
    "sys.path.insert(0, '/Users/Kallie/caffe/python/caffe/layers')\n",
    "\n",
    "sys.path.insert(0, caffe_root + 'python')\n",
    "import caffe"
   ]
  },
  {
   "cell_type": "markdown",
   "metadata": {},
   "source": [
    "# Build LeNet Architecture for Cifar10"
   ]
  },
  {
   "cell_type": "markdown",
   "metadata": {},
   "source": [
    "* LeNet no Dropout"
   ]
  },
  {
   "cell_type": "code",
   "execution_count": 3,
   "metadata": {},
   "outputs": [],
   "source": [
    "from caffe import layers as L, params as P\n",
    "\n",
    "def lenet(lmdb, batch_size):\n",
    "    # our version of LeNet: a series of linear and simple nonlinear transformations\n",
    "    n = caffe.NetSpec()\n",
    "    \n",
    "    n.data, n.label = L.Data(batch_size=batch_size, backend=P.Data.LMDB, source=lmdb,\n",
    "                             transform_param=dict(scale=1./255), ntop=2)\n",
    "    \n",
    "    n.conv1 = L.Convolution(n.data, kernel_size=5, num_output=20, weight_filler=dict(type='xavier'))\n",
    "    n.pool1 = L.Pooling(n.conv1, kernel_size=2, stride=2, pool=P.Pooling.MAX)\n",
    "    n.conv2 = L.Convolution(n.pool1, kernel_size=5, num_output=50, weight_filler=dict(type='xavier'))\n",
    "    n.pool2 = L.Pooling(n.conv2, kernel_size=2, stride=2, pool=P.Pooling.MAX)\n",
    "    n.fc1 =   L.InnerProduct(n.pool2, num_output=500, weight_filler=dict(type='xavier'))\n",
    "    n.relu1 = L.ReLU(n.fc1, in_place=True)\n",
    "    n.score = L.InnerProduct(n.relu1, num_output=10, weight_filler=dict(type='xavier'))\n",
    "    n.loss =  L.SoftmaxWithLoss(n.score, n.label)\n",
    "    \n",
    "    return n.to_proto()\n",
    "    \n",
    "with open('cifar10/lenet_auto_train.prototxt', 'w') as f:\n",
    "    f.write(str(lenet('cifar10/cifar10_train_lmdb', 64)))\n",
    "    \n",
    "with open('cifar10/lenet_auto_test.prototxt', 'w') as f:\n",
    "    f.write(str(lenet('cifar10/cifar10_test_lmdb', 100)))"
   ]
  },
  {
   "cell_type": "markdown",
   "metadata": {},
   "source": [
    "* LeNet with Vanilla Dropout Last Layer"
   ]
  },
  {
   "cell_type": "code",
   "execution_count": 4,
   "metadata": {},
   "outputs": [],
   "source": [
    "from caffe import layers as L, params as P\n",
    "\n",
    "def lenet_last_vanilla_dropout(lmdb, batch_size):\n",
    "    # our version of LeNet: a series of linear and simple nonlinear transformations\n",
    "    n = caffe.NetSpec()\n",
    "    \n",
    "    n.data, n.label = L.Data(batch_size=batch_size, backend=P.Data.LMDB, source=lmdb,\n",
    "                             transform_param=dict(scale=1./255), ntop=2)\n",
    "    \n",
    "    n.conv1 = L.Convolution(n.data, kernel_size=5, num_output=20, weight_filler=dict(type='xavier'))\n",
    "    n.pool1 = L.Pooling(n.conv1, kernel_size=2, stride=2, pool=P.Pooling.MAX)\n",
    "    n.conv2 = L.Convolution(n.pool1, kernel_size=5, num_output=50, weight_filler=dict(type='xavier'))\n",
    "    n.drop1 = L.Dropout(n.conv2, dropout_ratio=0.5)\n",
    "    n.pool2 = L.Pooling(n.drop1, kernel_size=2, stride=2, pool=P.Pooling.MAX)\n",
    "    n.fc1 =   L.InnerProduct(n.pool2, num_output=500, weight_filler=dict(type='xavier'))\n",
    "    n.relu1 = L.ReLU(n.fc1, in_place=True)\n",
    "    n.score = L.InnerProduct(n.relu1, num_output=10, weight_filler=dict(type='xavier'))\n",
    "    n.loss =  L.SoftmaxWithLoss(n.score, n.label)\n",
    "    \n",
    "    return n.to_proto()\n",
    "    \n",
    "with open('cifar10/lenet_last_vanilla_dropout_auto_train.prototxt', 'w') as f:\n",
    "    f.write(str(lenet_last_vanilla_dropout('cifar10/cifar10_train_lmdb', 64)))\n",
    "    \n",
    "with open('cifar10/lenet_last_vanilla_dropout_auto_test.prototxt', 'w') as f:\n",
    "    f.write(str(lenet_last_vanilla_dropout('cifar10/cifar10_test_lmdb', 100)))"
   ]
  },
  {
   "cell_type": "markdown",
   "metadata": {},
   "source": [
    "* LeNet with All Vanilla Dropout"
   ]
  },
  {
   "cell_type": "code",
   "execution_count": 5,
   "metadata": {},
   "outputs": [],
   "source": [
    "from caffe import layers as L, params as P\n",
    "\n",
    "def lenet_all_vanilla_dropout(lmdb, batch_size):\n",
    "    # our version of LeNet: a series of linear and simple nonlinear transformations\n",
    "    n = caffe.NetSpec()\n",
    "    \n",
    "    n.data, n.label = L.Data(batch_size=batch_size, backend=P.Data.LMDB, source=lmdb,\n",
    "                             transform_param=dict(scale=1./255), ntop=2)\n",
    "    \n",
    "    n.conv1 = L.Convolution(n.data, kernel_size=5, num_output=20, weight_filler=dict(type='xavier'))\n",
    "    n.drop1 = L.Dropout(n.conv1, dropout_ratio=0.5)\n",
    "    n.pool1 = L.Pooling(n.drop1, kernel_size=2, stride=2, pool=P.Pooling.MAX)\n",
    "    n.conv2 = L.Convolution(n.pool1, kernel_size=5, num_output=50, weight_filler=dict(type='xavier'))\n",
    "    n.drop2 = L.Dropout(n.conv2, dropout_ratio=0.5)\n",
    "    n.pool2 = L.Pooling(n.drop2, kernel_size=2, stride=2, pool=P.Pooling.MAX)\n",
    "    n.fc1 =   L.InnerProduct(n.pool2, num_output=500, weight_filler=dict(type='xavier'))\n",
    "    n.relu1 = L.ReLU(n.fc1, in_place=True)\n",
    "    n.score = L.InnerProduct(n.relu1, num_output=10, weight_filler=dict(type='xavier'))\n",
    "    n.loss =  L.SoftmaxWithLoss(n.score, n.label)\n",
    "    \n",
    "    return n.to_proto()\n",
    "    \n",
    "with open('cifar10/lenet_all_vanilla_dropout_auto_train.prototxt', 'w') as f:\n",
    "    f.write(str(lenet_all_vanilla_dropout('cifar10/cifar10_train_lmdb', 64)))\n",
    "    \n",
    "with open('cifar10/lenet_all_vanilla_dropout_auto_test.prototxt', 'w') as f:\n",
    "    f.write(str(lenet_all_vanilla_dropout('cifar10/cifar10_test_lmdb', 100)))"
   ]
  },
  {
   "cell_type": "markdown",
   "metadata": {},
   "source": [
    "* LeNet with Modified Dropout Last Layer"
   ]
  },
  {
   "cell_type": "code",
   "execution_count": 6,
   "metadata": {},
   "outputs": [],
   "source": [
    "from caffe import layers as L, params as P\n",
    "\n",
    "def lenet_last_mod_dropout(lmdb, batch_size):\n",
    "    # our version of LeNet: a series of linear and simple nonlinear transformations\n",
    "    n = caffe.NetSpec()\n",
    "    \n",
    "    n.data, n.label = L.Data(batch_size=batch_size, backend=P.Data.LMDB, source=lmdb,\n",
    "                             transform_param=dict(scale=1./255), ntop=2)\n",
    "    \n",
    "    n.conv1 = L.Convolution(n.data, kernel_size=5, num_output=20, weight_filler=dict(type='xavier'))\n",
    "    n.pool1 = L.Pooling(n.conv1, kernel_size=2, stride=2, pool=P.Pooling.MAX)\n",
    "    n.conv2 = L.Convolution(n.pool1, kernel_size=5, num_output=50, weight_filler=dict(type='xavier'))\n",
    "    n.drop1 = L.Python(n.conv2, name='drop1', ntop=1, python_param={'module': 'Dropout_M',\n",
    "                           'layer': 'Dropout_M_Layer'})\n",
    "    n.pool2 = L.Pooling(n.drop1, kernel_size=2, stride=2, pool=P.Pooling.MAX)\n",
    "    n.fc1 =   L.InnerProduct(n.pool2, num_output=500, weight_filler=dict(type='xavier'))\n",
    "    n.relu1 = L.ReLU(n.fc1, in_place=True)\n",
    "    n.score = L.InnerProduct(n.relu1, num_output=10, weight_filler=dict(type='xavier'))\n",
    "    n.loss =  L.SoftmaxWithLoss(n.score, n.label)\n",
    "    \n",
    "    return n.to_proto()\n",
    "    \n",
    "with open('cifar10/lenet_last_mod_dropout_auto_train.prototxt', 'w') as f:\n",
    "    f.write(str(lenet_last_mod_dropout('cifar10/cifar10_train_lmdb', 64)))\n",
    "    \n",
    "with open('cifar10/lenet_last_mod_dropout_auto_test.prototxt', 'w') as f:\n",
    "    f.write(str(lenet_last_mod_dropout('cifar10/cifar10_test_lmdb', 100)))"
   ]
  },
  {
   "cell_type": "markdown",
   "metadata": {},
   "source": [
    "* LenNet With All Modified Dropout"
   ]
  },
  {
   "cell_type": "code",
   "execution_count": 7,
   "metadata": {},
   "outputs": [],
   "source": [
    "from caffe import layers as L, params as P\n",
    "\n",
    "def lenet_all_mod_dropout(lmdb, batch_size):\n",
    "    # our version of LeNet: a series of linear and simple nonlinear transformations\n",
    "    n = caffe.NetSpec()\n",
    "    \n",
    "    n.data, n.label = L.Data(batch_size=batch_size, backend=P.Data.LMDB, source=lmdb,\n",
    "                             transform_param=dict(scale=1./255), ntop=2)\n",
    "    \n",
    "    n.conv1 = L.Convolution(n.data, kernel_size=5, num_output=20, weight_filler=dict(type='xavier'))\n",
    "    n.drop1 = L.Python(n.conv1, name='drop1', ntop=1, python_param={'module': 'Dropout_M',\n",
    "                           'layer': 'Dropout_M_Layer'})\n",
    "    n.pool1 = L.Pooling(n.drop1, kernel_size=2, stride=2, pool=P.Pooling.MAX)\n",
    "    n.conv2 = L.Convolution(n.pool1, kernel_size=5, num_output=50, weight_filler=dict(type='xavier'))\n",
    "    n.drop2 = L.Python(n.conv2, name='drop1', ntop=1, python_param={'module': 'Dropout_M',\n",
    "                           'layer': 'Dropout_M_Layer'})\n",
    "    n.pool2 = L.Pooling(n.drop2, kernel_size=2, stride=2, pool=P.Pooling.MAX)\n",
    "    n.fc1 =   L.InnerProduct(n.pool2, num_output=500, weight_filler=dict(type='xavier'))\n",
    "    n.relu1 = L.ReLU(n.fc1, in_place=True)\n",
    "    n.score = L.InnerProduct(n.relu1, num_output=10, weight_filler=dict(type='xavier'))\n",
    "    n.loss =  L.SoftmaxWithLoss(n.score, n.label)\n",
    "    \n",
    "    return n.to_proto()\n",
    "    \n",
    "with open('cifar10/lenet_all_mod_dropout_auto_train.prototxt', 'w') as f:\n",
    "    f.write(str(lenet_all_mod_dropout('cifar10/cifar10_train_lmdb', 64)))\n",
    "    \n",
    "with open('cifar10/lenet_all_mod_dropout_auto_test.prototxt', 'w') as f:\n",
    "    f.write(str(lenet_all_mod_dropout('cifar10/cifar10_test_lmdb', 100)))"
   ]
  },
  {
   "cell_type": "markdown",
   "metadata": {},
   "source": [
    "# Load the Solver\n",
    "* Change Solver based on LeNet You Want to Run"
   ]
  },
  {
   "cell_type": "code",
   "execution_count": 8,
   "metadata": {},
   "outputs": [],
   "source": [
    "caffe.set_mode_cpu()\n",
    "\n",
    "### load the solver and create train and test nets\n",
    "solver = None  # ignore this workaround for lmdb data (can't instantiate two solvers on the same data)\n",
    "\n",
    "# 'cifar10/lenet_auto_solver.prototxt'\n",
    "# 'cifar10/lenet_last_vanilla_dropout_auto_solver.prototxt'\n",
    "# 'cifar10/lenet_all_vanilla_dropout_auto_solver.prototxt'\n",
    "# 'cifar10/lenet_last_mod_dropout_auto_solver.prototxt'\n",
    "# 'cifar10/lenet_all_mod_dropout_auto_solver.prototxt'\n",
    "solver = caffe.SGDSolver('cifar10/lenet_all_mod_dropout_auto_solver.prototxt')"
   ]
  },
  {
   "cell_type": "markdown",
   "metadata": {},
   "source": [
    "# Sanity Checks\n",
    "* output layer sizes:"
   ]
  },
  {
   "cell_type": "code",
   "execution_count": 9,
   "metadata": {},
   "outputs": [
    {
     "data": {
      "text/plain": [
       "[('data', (64, 3, 32, 32)),\n",
       " ('label', (64,)),\n",
       " ('conv1', (64, 20, 28, 28)),\n",
       " ('drop1', (64, 20, 28, 28)),\n",
       " ('pool1', (64, 20, 14, 14)),\n",
       " ('conv2', (64, 50, 10, 10)),\n",
       " ('drop2', (64, 50, 10, 10)),\n",
       " ('pool2', (64, 50, 5, 5)),\n",
       " ('fc1', (64, 500)),\n",
       " ('score', (64, 10)),\n",
       " ('loss', ())]"
      ]
     },
     "execution_count": 9,
     "metadata": {},
     "output_type": "execute_result"
    }
   ],
   "source": [
    "# each output is (batch size, feature dim, spatial dim)\n",
    "[(k, v.data.shape) for k, v in solver.net.blobs.items()]"
   ]
  },
  {
   "cell_type": "code",
   "execution_count": 10,
   "metadata": {
    "scrolled": true
   },
   "outputs": [
    {
     "data": {
      "text/plain": [
       "[('conv1', (20, 3, 5, 5)),\n",
       " ('conv2', (50, 20, 5, 5)),\n",
       " ('fc1', (500, 1250)),\n",
       " ('score', (10, 500))]"
      ]
     },
     "execution_count": 10,
     "metadata": {},
     "output_type": "execute_result"
    }
   ],
   "source": [
    "# just print the weight sizes (we'll omit the biases)\n",
    "[(k, v[0].data.shape) for k, v in solver.net.params.items()]"
   ]
  },
  {
   "cell_type": "markdown",
   "metadata": {},
   "source": [
    "* Loss looks Correct and Check Data is Loaded "
   ]
  },
  {
   "cell_type": "code",
   "execution_count": 11,
   "metadata": {},
   "outputs": [
    {
     "data": {
      "text/plain": [
       "{'loss': array(2.5799246, dtype=float32)}"
      ]
     },
     "execution_count": 11,
     "metadata": {},
     "output_type": "execute_result"
    }
   ],
   "source": [
    "solver.net.forward()  # train net\n",
    "solver.test_nets[0].forward()  # test net (there can be more than one)"
   ]
  },
  {
   "cell_type": "code",
   "execution_count": 12,
   "metadata": {},
   "outputs": [
    {
     "name": "stdout",
     "output_type": "stream",
     "text": [
      "train labels: [8. 5. 8. 6. 4. 8. 5. 9. 9. 4.]\n"
     ]
    },
    {
     "data": {
      "image/png": "[encoded data removed]",
      "text/plain": [
       "<matplotlib.figure.Figure at 0xa37230cf8>"
      ]
     },
     "metadata": {},
     "output_type": "display_data"
    }
   ],
   "source": [
    "# we use a little trick to tile the first ten images\n",
    "imshow(solver.net.blobs['data'].data[:10, 0].transpose(1, 0, 2).reshape(32, 10*32), cmap='binary'); axis('off')\n",
    "print('train labels:', solver.net.blobs['label'].data[:10])"
   ]
  },
  {
   "cell_type": "code",
   "execution_count": null,
   "metadata": {},
   "outputs": [
    {
     "name": "stdout",
     "output_type": "stream",
     "text": [
      "test labels: [3. 8. 8. 0. 6. 6. 1. 6. 3. 1.]\n"
     ]
    },
    {
     "data": {
      "image/png": "[encoded data removed]",
      "text/plain": [
       "<matplotlib.figure.Figure at 0xa37230e48>"
      ]
     },
     "metadata": {},
     "output_type": "display_data"
    }
   ],
   "source": [
    "imshow(solver.test_nets[0].blobs['data'].data[:10, 0].transpose(1, 0, 2).reshape(32, 10*32), cmap='gray'); axis('off')\n",
    "print('test labels:', solver.test_nets[0].blobs['label'].data[:10])"
   ]
  },
  {
   "cell_type": "markdown",
   "metadata": {},
   "source": [
    "# Training Loop"
   ]
  },
  {
   "cell_type": "code",
   "execution_count": null,
   "metadata": {},
   "outputs": [
    {
     "name": "stderr",
     "output_type": "stream",
     "text": [
      "/Users/Kallie/caffe/python/caffe/layers/Dropout_M.py:14: RuntimeWarning: divide by zero encountered in log\n",
      "  eps = sigmoid(np.log(data**2))\n"
     ]
    },
    {
     "name": "stdout",
     "output_type": "stream",
     "text": [
      "Iteration 0 testing...\n",
      "Iteration 100 testing...\n",
      "Iteration 200 testing...\n",
      "Iteration 300 testing...\n",
      "Iteration 400 testing...\n",
      "Iteration 500 testing...\n",
      "Iteration 600 testing...\n",
      "Iteration 700 testing...\n",
      "Iteration 800 testing...\n",
      "Iteration 900 testing...\n",
      "Iteration 1000 testing...\n",
      "Iteration 1100 testing...\n",
      "Iteration 1200 testing...\n",
      "Iteration 1300 testing...\n",
      "Iteration 1400 testing...\n",
      "Iteration 1500 testing...\n",
      "Iteration 1600 testing...\n",
      "Iteration 1700 testing...\n",
      "Iteration 1800 testing...\n",
      "Iteration 1900 testing...\n",
      "Iteration 2000 testing...\n",
      "Iteration 2100 testing...\n",
      "Iteration 2200 testing...\n",
      "Iteration 2300 testing...\n",
      "Iteration 2400 testing...\n",
      "Iteration 2500 testing...\n",
      "Iteration 2600 testing...\n",
      "Iteration 2700 testing...\n",
      "Iteration 2800 testing...\n",
      "Iteration 2900 testing...\n",
      "Iteration 3000 testing...\n",
      "Iteration 3100 testing...\n",
      "Iteration 3200 testing...\n",
      "Iteration 3300 testing...\n",
      "Iteration 3400 testing...\n",
      "Iteration 3500 testing...\n",
      "Iteration 3600 testing...\n",
      "Iteration 3700 testing...\n",
      "Iteration 3800 testing...\n",
      "Iteration 3900 testing...\n",
      "Iteration 4000 testing...\n",
      "Iteration 4100 testing...\n",
      "Iteration 4200 testing...\n",
      "Iteration 4300 testing...\n",
      "Iteration 4400 testing...\n",
      "Iteration 4500 testing...\n",
      "Iteration 4600 testing...\n",
      "Iteration 4700 testing...\n",
      "Iteration 4800 testing...\n",
      "Iteration 4900 testing...\n",
      "Iteration 5000 testing...\n",
      "Iteration 5100 testing...\n",
      "Iteration 5200 testing...\n",
      "Iteration 5300 testing...\n",
      "Iteration 5400 testing...\n"
     ]
    }
   ],
   "source": [
    "%%time\n",
    "niter =  10000\n",
    "test_interval = 100\n",
    "\n",
    "# losses will also be stored in the log\n",
    "train_loss = zeros(niter)\n",
    "test_acc = zeros(int(np.ceil(niter / test_interval)))\n",
    "train_acc = zeros(int(np.ceil(niter / test_interval)))\n",
    "output = zeros((niter, 8, 10))\n",
    "\n",
    "correct_train = 0\n",
    "\n",
    "# the main solver loop\n",
    "for it in range(niter):\n",
    "    solver.step(1)  # SGD by Caffe\n",
    "    \n",
    "    # store the train loss\n",
    "    train_loss[it] = solver.net.blobs['loss'].data\n",
    "    \n",
    "    # store the output on the first test batch\n",
    "    # (start the forward pass at conv1 to avoid loading new data)\n",
    "    solver.test_nets[0].forward(start='conv1')\n",
    "    output[it] = solver.test_nets[0].blobs['score'].data[:8]\n",
    "    \n",
    "    correct_train += sum(solver.net.blobs['score'].data.argmax(1)\n",
    "                           == solver.net.blobs['label'].data)\n",
    "    \n",
    "    # run a full test every so often\n",
    "    # (Caffe can also do this for us and write to a log, but we show here\n",
    "    #  how to do it directly in Python, where more complicated things are easier.)\n",
    "    if it % test_interval == 0:\n",
    "        train_acc[it // test_interval] = correct_train / (64*100)\n",
    "        correct_train = 0\n",
    "        print('Iteration', it, 'testing...')\n",
    "        correct = 0\n",
    "        for test_it in range(100):\n",
    "            solver.test_nets[0].forward()\n",
    "            correct += sum(solver.test_nets[0].blobs['score'].data.argmax(1)\n",
    "                           == solver.test_nets[0].blobs['label'].data)\n",
    "        test_acc[it // test_interval] = correct / 1e4"
   ]
  },
  {
   "cell_type": "markdown",
   "metadata": {},
   "source": [
    "* Training Accuracy"
   ]
  },
  {
   "cell_type": "code",
   "execution_count": null,
   "metadata": {},
   "outputs": [],
   "source": [
    "_, ax1 = subplots()\n",
    "ax2 = ax1.twinx()\n",
    "ax1.plot(arange(niter), train_loss, label=\"Loss\")\n",
    "ax2.plot(test_interval * arange(len(test_acc)), test_acc, 'r', label=\"Test Accuracy\")\n",
    "ax2.plot(test_interval * arange(len(train_acc)), train_acc, 'g', label=\"Train Accuracy\")\n",
    "ax2.legend(bbox_to_anchor=(1.15, 1), loc=2, borderaxespad=0.)\n",
    "ax1.legend(bbox_to_anchor=(1.15, .85), loc=2, borderaxespad=0.)\n",
    "ax2.set_xlabel('iteration')\n",
    "ax1.set_ylabel('train loss')\n",
    "ax2.set_ylabel('test accuracy')\n",
    "ax2.set_title('Modified Dropout Test Accuracy {:.4f}, Train Accuracy {:.4f} on CIFAR10'.format(test_acc[-1], train_acc[-1]))\n",
    "#ax2.set_title('Modified Dropout Test Accuracy {:.4f}'.format(test_acc[-1]))\n",
    "savefig('cifar10/figures/mod_training.jpg')"
   ]
  },
  {
   "cell_type": "code",
   "execution_count": null,
   "metadata": {},
   "outputs": [],
   "source": []
  }
 ],
 "metadata": {
  "kernelspec": {
   "display_name": "final",
   "language": "python",
   "name": "final"
  },
  "language_info": {
   "codemirror_mode": {
    "name": "ipython",
    "version": 3
   },
   "file_extension": ".py",
   "mimetype": "text/x-python",
   "name": "python",
   "nbconvert_exporter": "python",
   "pygments_lexer": "ipython3",
   "version": "3.6.3"
  }
 },
 "nbformat": 4,
 "nbformat_minor": 2
}
